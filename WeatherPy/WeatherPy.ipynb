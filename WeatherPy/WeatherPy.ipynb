{
 "cells": [
  {
   "cell_type": "markdown",
   "metadata": {},
   "source": [
    "# WeatherPy\n",
    "----\n",
    "\n",
    "#### Note\n",
    "* Instructions have been included for each segment. You do not have to follow them exactly, but they are included to help you think through the steps."
   ]
  },
  {
   "cell_type": "code",
   "execution_count": 1,
   "metadata": {},
   "outputs": [
    {
     "name": "stdout",
     "output_type": "stream",
     "text": [
      "Requirement already satisfied: citipy in c:\\users\\ajker\\anaconda3\\lib\\site-packages (0.0.5)\n",
      "Requirement already satisfied: kdtree>=0.12 in c:\\users\\ajker\\anaconda3\\lib\\site-packages (from citipy) (0.16)\n"
     ]
    }
   ],
   "source": [
    "#!pip install citipy"
   ]
  },
  {
   "cell_type": "code",
   "execution_count": 2,
   "metadata": {
    "scrolled": true
   },
   "outputs": [],
   "source": [
    "# Dependencies and Setup\n",
    "import matplotlib.pyplot as plt\n",
    "import pandas as pd\n",
    "import numpy as np\n",
    "import requests\n",
    "import time\n",
    "from scipy.stats import linregress\n",
    "\n",
    "# Import API key\n",
    "from api_keys import weather_api_key\n",
    "\n",
    "# Incorporated citipy to determine city based on latitude and longitude\n",
    "from citipy import citipy\n",
    "\n",
    "# Output File (CSV)\n",
    "output_data_file = \"output_data/cities.csv\"\n",
    "\n",
    "# Range of latitudes and longitudes\n",
    "lat_range = (-90, 90)\n",
    "lng_range = (-180, 180)"
   ]
  },
  {
   "cell_type": "markdown",
   "metadata": {},
   "source": [
    "## Generate Cities List"
   ]
  },
  {
   "cell_type": "code",
   "execution_count": 3,
   "metadata": {},
   "outputs": [
    {
     "data": {
      "text/plain": [
       "607"
      ]
     },
     "execution_count": 3,
     "metadata": {},
     "output_type": "execute_result"
    }
   ],
   "source": [
    "# List for holding lat_lngs and cities\n",
    "lat_lngs = []\n",
    "cities = []\n",
    "\n",
    "# Create a set of random lat and lng combinations\n",
    "lats = np.random.uniform(lat_range[0], lat_range[1], size=1500)\n",
    "lngs = np.random.uniform(lng_range[0], lng_range[1], size=1500)\n",
    "lat_lngs = zip(lats, lngs)\n",
    "\n",
    "# Identify nearest city for each lat, lng combination\n",
    "for lat_lng in lat_lngs:\n",
    "    city = citipy.nearest_city(lat_lng[0], lat_lng[1]).city_name\n",
    "    \n",
    "    # If the city is unique, then add it to a our cities list\n",
    "    if city not in cities:\n",
    "        cities.append(city)\n",
    "\n",
    "# Print the city count to confirm sufficient count\n",
    "len(cities)"
   ]
  },
  {
   "cell_type": "markdown",
   "metadata": {},
   "source": [
    "### Perform API Calls\n",
    "* Perform a weather check on each city using a series of successive API calls.\n",
    "* Include a print log of each city as it'sbeing processed (with the city number and city name).\n"
   ]
  },
  {
   "cell_type": "code",
   "execution_count": 26,
   "metadata": {},
   "outputs": [
    {
     "name": "stdout",
     "output_type": "stream",
     "text": [
      "{'coord': {'lon': 168.33, 'lat': -46.6}, 'weather': [{'id': 804, 'main': 'Clouds', 'description': 'overcast clouds', 'icon': '04d'}], 'base': 'stations', 'main': {'temp': 49.62, 'feels_like': 29.77, 'temp_min': 49.62, 'temp_max': 49.62, 'pressure': 1006, 'humidity': 70, 'sea_level': 1006, 'grnd_level': 1001}, 'visibility': 10000, 'wind': {'speed': 31.38, 'deg': 279}, 'clouds': {'all': 91}, 'dt': 1597106795, 'sys': {'country': 'NZ', 'sunrise': 1597089233, 'sunset': 1597125004}, 'timezone': 43200, 'id': 2206939, 'name': 'Bluff', 'cod': 200}\n",
      "mataura\n",
      "hermanus\n",
      "busselton\n",
      "cape town\n",
      "pokhara\n",
      "bluff\n",
      "svetlogorsk\n",
      "babanusah\n",
      "skipping\n",
      "yellowknife\n",
      "vila do maio\n",
      "avarua\n",
      "great yarmouth\n",
      "port alfred\n",
      "ushuaia\n",
      "gizo\n",
      "hilo\n",
      "askino\n",
      "albany\n",
      "kununurra\n",
      "barrow\n",
      "amderma\n",
      "skipping\n",
      "saldanha\n",
      "narsaq\n",
      "esperance\n",
      "tumannyy\n",
      "skipping\n",
      "san cristobal\n",
      "rikitea\n",
      "sovetskiy\n",
      "alenquer\n",
      "vanimo\n",
      "pisco\n",
      "port hedland\n",
      "punta arenas\n",
      "luderitz\n",
      "mahebourg\n",
      "saskylakh\n",
      "itarema\n",
      "urdzhar\n",
      "skipping\n",
      "muli\n",
      "klaksvik\n",
      "carnarvon\n",
      "east london\n",
      "oktyabrskoye\n",
      "pathein\n",
      "jamestown\n",
      "illoqqortoormiut\n",
      "skipping\n",
      "lashio\n",
      "ola\n",
      "cap-aux-meules\n",
      "kirakira\n",
      "hunza\n",
      "skipping\n",
      "naftah\n",
      "skipping\n",
      "kodiak\n",
      "tamworth\n",
      "mys shmidta\n",
      "skipping\n",
      "tuktoyaktuk\n",
      "belushya guba\n",
      "skipping\n",
      "kapaa\n",
      "north bend\n",
      "kutum\n",
      "lethem\n",
      "saint-pierre\n",
      "wangkui\n",
      "arraial do cabo\n",
      "namibe\n",
      "monywa\n",
      "kirensk\n",
      "zyryanka\n",
      "kualakapuas\n",
      "hithadhoo\n",
      "elizabeth city\n",
      "mar del plata\n",
      "qaanaaq\n",
      "upernavik\n",
      "uchaly\n",
      "hami\n",
      "barentsburg\n",
      "skipping\n",
      "abilene\n",
      "dikson\n",
      "castro\n",
      "laguna\n",
      "manyana\n",
      "vestmannaeyjar\n",
      "ponta do sol\n",
      "vaini\n",
      "hofn\n",
      "airai\n",
      "ternate\n",
      "dingle\n",
      "haines junction\n",
      "muzaffarabad\n",
      "kiknur\n",
      "ngukurr\n",
      "skipping\n",
      "yichang\n",
      "guarapari\n",
      "yar-sale\n",
      "nizhneyansk\n",
      "skipping\n",
      "port elizabeth\n",
      "kieta\n",
      "bredasdorp\n",
      "ilulissat\n",
      "kaitangata\n",
      "kapoeta\n",
      "torbay\n",
      "puerto ayora\n",
      "tsihombe\n",
      "skipping\n",
      "beringovskiy\n",
      "butaritari\n",
      "tiksi\n",
      "hasaki\n",
      "kavieng\n",
      "necochea\n",
      "artyom\n",
      "lerwick\n",
      "port macquarie\n",
      "jaru\n",
      "nadym\n",
      "tasiilaq\n",
      "cabo san lucas\n",
      "bahia honda\n",
      "sandnessjoen\n",
      "baoma\n",
      "ambon\n",
      "gwadar\n",
      "nizhniy tsasuchey\n",
      "menongue\n",
      "fortuna\n",
      "nikolskoye\n",
      "pemangkat\n",
      "port augusta\n",
      "lebu\n",
      "ancud\n",
      "phan thiet\n",
      "litovko\n",
      "luwuk\n",
      "sisimiut\n",
      "florianopolis\n",
      "coquimbo\n",
      "cabedelo\n",
      "grand river south east\n",
      "skipping\n",
      "okakarara\n",
      "pevek\n",
      "georgetown\n",
      "ilo\n",
      "yanan\n",
      "skipping\n",
      "vastseliina\n",
      "bethel\n",
      "avera\n",
      "hirara\n",
      "chokurdakh\n",
      "hobart\n",
      "dalton\n",
      "huarmey\n",
      "bandarbeyla\n",
      "sheridan\n",
      "saleaula\n",
      "skipping\n",
      "pitimbu\n",
      "aurillac\n",
      "rosarito\n",
      "chuy\n",
      "acapulco\n",
      "sola\n",
      "povenets\n",
      "sharjah\n",
      "marcona\n",
      "skipping\n",
      "mount gambier\n",
      "seymour\n",
      "ashland\n",
      "sentyabrskiy\n",
      "skipping\n",
      "waipawa\n",
      "saint-philippe\n",
      "tiznit\n",
      "ust-kuyga\n",
      "vaitupu\n",
      "skipping\n",
      "clyde river\n",
      "bambous virieux\n",
      "pangnirtung\n",
      "new norfolk\n",
      "fairbanks\n",
      "lake cowichan\n",
      "faanui\n",
      "bonoua\n",
      "japura\n",
      "attawapiskat\n",
      "skipping\n",
      "lompoc\n",
      "half moon bay\n",
      "khatanga\n",
      "togur\n",
      "polyarnyy\n",
      "dunmore town\n",
      "ostrovnoy\n",
      "dire\n",
      "panzhihua\n",
      "fuyu\n",
      "buraydah\n",
      "rocha\n",
      "goulburn\n",
      "jumla\n",
      "guelengdeng\n",
      "skipping\n",
      "tuatapere\n",
      "aripuana\n",
      "taolanaro\n",
      "skipping\n",
      "saint-ambroise\n",
      "sinnamary\n",
      "sorland\n",
      "lucea\n",
      "odweyne\n",
      "margate\n",
      "tokur\n",
      "kismayo\n",
      "tezpur\n",
      "canto do buriti\n",
      "zhezkazgan\n",
      "stromness\n",
      "russell\n",
      "gat\n",
      "komsomolskiy\n",
      "yumen\n",
      "sabang\n",
      "yungay\n",
      "lamu\n",
      "san jeronimo\n",
      "provideniya\n",
      "rock sound\n",
      "erenhot\n",
      "havoysund\n",
      "mora\n",
      "mogadishu\n",
      "mayumba\n",
      "zachagansk\n",
      "skipping\n",
      "bilma\n",
      "souillac\n",
      "adrar\n",
      "la ciotat\n",
      "ratnagiri\n",
      "luganville\n",
      "yulara\n",
      "angra\n",
      "skipping\n",
      "penarroya-pueblonuevo\n",
      "kushiro\n",
      "amaraji\n",
      "maues\n",
      "akyab\n",
      "batagay-alyta\n",
      "diffa\n",
      "thompson\n",
      "geraldton\n",
      "fare\n",
      "nioro\n",
      "norman wells\n",
      "eyl\n",
      "laela\n",
      "tongzi\n",
      "taoudenni\n",
      "praia da vitoria\n",
      "richards bay\n",
      "batagay\n",
      "samara\n",
      "praya\n",
      "gashua\n",
      "emerald\n",
      "osa\n",
      "kloulklubed\n",
      "lorengau\n",
      "dickinson\n",
      "abu zabad\n",
      "maldonado\n",
      "honningsvag\n",
      "lasa\n",
      "constitucion\n",
      "atuona\n",
      "changde\n",
      "liverpool\n",
      "muros\n",
      "college\n",
      "balangiga\n",
      "broome\n",
      "cidreira\n",
      "olot\n",
      "bukachacha\n",
      "krasnyy chikoy\n",
      "bayanday\n",
      "taksimo\n",
      "itoman\n",
      "hovd\n",
      "baiyin\n",
      "lede\n",
      "goure\n",
      "lichuan\n",
      "wanning\n",
      "basco\n",
      "codrington\n",
      "krasnoselkup\n",
      "touros\n",
      "te anau\n",
      "isangel\n",
      "haapu\n",
      "skipping\n",
      "yuzhnouralsk\n",
      "rawson\n",
      "rawannawi\n",
      "skipping\n",
      "umzimvubu\n",
      "skipping\n",
      "lagoa\n",
      "mogzon\n",
      "bocanda\n",
      "salalah\n",
      "ballina\n",
      "iskateley\n",
      "grand baie\n",
      "la cruz\n",
      "macamic\n",
      "manta\n",
      "ca mau\n",
      "san jorge\n",
      "saint anthony\n",
      "czluchow\n",
      "yarkovo\n",
      "padang\n",
      "nome\n",
      "krasnoshchekovo\n",
      "portland\n",
      "deloraine\n",
      "luan\n",
      "bowen\n",
      "rincon\n",
      "nelson bay\n",
      "champerico\n",
      "kahului\n",
      "siocon\n",
      "stoyba\n",
      "skipping\n",
      "kuche\n",
      "skipping\n",
      "mecca\n",
      "kirkuk\n",
      "bur gabo\n",
      "skipping\n",
      "bozoum\n",
      "sabla\n",
      "nhulunbuy\n",
      "kaeo\n",
      "urumqi\n",
      "vao\n",
      "vaasa\n",
      "marawi\n",
      "scottsburgh\n",
      "skipping\n",
      "urambo\n",
      "iqaluit\n",
      "port keats\n",
      "ybbs\n",
      "skipping\n",
      "nizhnyaya poyma\n",
      "bilibino\n",
      "palauig\n",
      "ahipara\n",
      "dunedin\n",
      "almaznyy\n",
      "saint george\n",
      "baneh\n",
      "kinablangan\n",
      "mafinga\n",
      "valley city\n",
      "san quintin\n",
      "port blair\n",
      "ankang\n",
      "dubbo\n",
      "morondava\n",
      "cotonou\n",
      "tinaquillo\n",
      "higuey\n",
      "skipping\n",
      "murgab\n",
      "mehamn\n",
      "xuddur\n",
      "nanortalik\n",
      "darhan\n",
      "harboore\n",
      "saint-joseph\n",
      "talnakh\n",
      "port hardy\n",
      "karratha\n",
      "freeport\n",
      "micheweni\n",
      "vangaindrano\n",
      "petropavlovsk-kamchatskiy\n",
      "coihaique\n",
      "mahibadhoo\n",
      "grindavik\n",
      "san miguel\n",
      "clyde\n",
      "sao filipe\n",
      "kamenka\n",
      "olafsvik\n",
      "anadyr\n",
      "koriyama\n",
      "estancia\n",
      "pryozerne\n",
      "berlevag\n",
      "beyneu\n",
      "lolua\n",
      "skipping\n",
      "kasongo-lunda\n",
      "pangai\n",
      "northam\n",
      "santiago del estero\n",
      "bima\n",
      "verkhoyansk\n",
      "korla\n",
      "los llanos de aridane\n",
      "paraisopolis\n",
      "bengkulu\n",
      "pringsewu\n",
      "skjold\n",
      "malinao\n",
      "devils lake\n",
      "altamira\n",
      "la ronge\n",
      "burnie\n",
      "novobirilyussy\n",
      "oum hadjer\n",
      "cockburn town\n",
      "puerto lopez\n",
      "kayanga\n",
      "dalian\n",
      "inongo\n",
      "victoria\n",
      "banmo\n",
      "skipping\n",
      "samusu\n",
      "skipping\n",
      "gaithersburg\n",
      "port shepstone\n",
      "barabai\n",
      "tezu\n",
      "zhanakorgan\n",
      "kamenskoye\n",
      "skipping\n",
      "pacific grove\n",
      "uray\n",
      "pskov\n",
      "barbar\n",
      "skipping\n",
      "kefamenanu\n",
      "west bay\n",
      "tashtyp\n",
      "ambulu\n",
      "nisia floresta\n",
      "paka\n",
      "cherskiy\n",
      "bayan\n",
      "alice springs\n",
      "santa lucia\n",
      "tautira\n",
      "buchanan\n",
      "ambodifototra\n",
      "skipping\n",
      "stornoway\n",
      "klaebu\n",
      "san javier\n",
      "aureliana\n",
      "manokwari\n",
      "duldurga\n",
      "viligili\n",
      "skipping\n",
      "beloha\n",
      "julio de castilhos\n",
      "kathu\n",
      "macusani\n",
      "loudi\n",
      "kota bahru\n",
      "scottsbluff\n",
      "comodoro rivadavia\n",
      "pucara\n",
      "nador\n",
      "teya\n",
      "marzuq\n",
      "disna\n",
      "walla walla\n",
      "beni\n",
      "ixtapa\n",
      "anloga\n",
      "shimoda\n",
      "yambio\n",
      "impfondo\n",
      "kimbe\n",
      "dali\n",
      "agirish\n",
      "carauari\n",
      "venustiano carranza\n",
      "meulaboh\n",
      "inderborskiy\n",
      "skipping\n",
      "aklavik\n",
      "kruisfontein\n",
      "ribeira grande\n",
      "aginskoye\n",
      "west des moines\n",
      "taltal\n",
      "changping\n",
      "camocim\n",
      "kentau\n",
      "bereda\n",
      "san patricio\n",
      "malokaterynivka\n",
      "narok\n",
      "sitka\n",
      "lusambo\n",
      "novyy urgal\n",
      "guerrero negro\n",
      "port lincoln\n",
      "hyeres\n",
      "auburn\n",
      "vardo\n",
      "alofi\n",
      "mandeville\n",
      "juneau\n",
      "tuggurt\n",
      "skipping\n",
      "buala\n",
      "jiexiu\n",
      "tabou\n",
      "dobre miasto\n",
      "namatanai\n",
      "chita\n",
      "kamloops\n",
      "nalut\n",
      "saiha\n",
      "alugan\n",
      "lithakia\n",
      "inirida\n",
      "tazovskiy\n",
      "praia\n",
      "farah\n",
      "evensk\n",
      "carutapera\n",
      "kultayevo\n",
      "rascani\n",
      "skipping\n",
      "gulshat\n",
      "skipping\n",
      "dir\n",
      "loutros\n",
      "kavaratti\n",
      "amapa\n",
      "nenjiang\n",
      "boden\n",
      "general roca\n",
      "raudeberg\n",
      "espanola\n",
      "palmas\n",
      "ojinaga\n",
      "guadalupe y calvo\n",
      "katsuura\n",
      "werota\n",
      "jega\n",
      "maraa\n",
      "holme\n",
      "kudahuvadhoo\n",
      "leningradskiy\n",
      "zlatoustovsk\n",
      "skipping\n",
      "brazzaville\n",
      "baykit\n",
      "mahanoro\n",
      "terrace\n",
      "nyurba\n",
      "camacha\n",
      "srednekolymsk\n",
      "skalistyy\n",
      "skipping\n",
      "mundi\n",
      "coahuayana\n",
      "carsamba\n",
      "chapais\n",
      "krasnozerskoye\n",
      "caravelas\n",
      "vostok\n",
      "malpe\n",
      "aflu\n",
      "skipping\n",
      "azare\n",
      "placido de castro\n",
      "port-gentil\n",
      "bentiu\n",
      "verkhnevilyuysk\n",
      "bethanien\n",
      "yemtsa\n",
      "vila velha\n",
      "biak\n",
      "mpika\n",
      "husavik\n",
      "rungata\n",
      "skipping\n",
      "kalmunai\n",
      "auki\n",
      "sao raimundo das mangabeiras\n",
      "lavrentiya\n",
      "tecoanapa\n",
      "balaipungut\n",
      "damietta\n",
      "manzhouli\n",
      "ledyard\n",
      "tilichiki\n",
      "trinidad\n",
      "mabaruma\n",
      "tual\n",
      "tatawin\n",
      "opportunity\n",
      "surt\n",
      "taraz\n",
      "kunya\n",
      "abancay\n",
      "kidal\n",
      "dunhua\n",
      "primorsk\n",
      "presque isle\n",
      "hobyo\n",
      "gucheng\n",
      "galgani\n",
      "skipping\n",
      "sao jose da coroa grande\n",
      "lotofaga\n",
      "concordia\n",
      "iracoubo\n",
      "menzelinsk\n",
      "palaia fokaia\n",
      "xam nua\n",
      "cagli\n",
      "ozernovskiy\n"
     ]
    }
   ],
   "source": [
    "#Temperature (F) vs. Latitude\n",
    "#Humidity (%) vs. Latitude\n",
    "#Cloudiness (%) vs. Latitude\n",
    "#Wind Speed (mph) vs. Latitude\n",
    "\n",
    "\n",
    "cities_weather_list=[]\n",
    "\n",
    "\n",
    "url='https://api.openweathermap.org/data/2.5/weather?q='\n",
    "api_part='&units=Imperial&appid='\n",
    "city=\"bluff\"\n",
    "query = url + city + api_part + weather_api_key\n",
    "response = requests.get(query)\n",
    "response_json = response.json()\n",
    "print(response_json)\n",
    "        \n",
    "for city in cities:\n",
    "    query = url + city + api_part + weather_api_key\n",
    "    try:\n",
    "        print(city)\n",
    "        response = requests.get(query)\n",
    "        response_json = response.json()\n",
    "        lat=response_json[\"coord\"][\"lat\"]\n",
    "        lng=response_json[\"coord\"][\"lon\"]\n",
    "        maxtemp=response_json[\"main\"][\"temp_max\"]\n",
    "        humidity=response_json[\"main\"][\"humidity\"]\n",
    "        cloudiness=response_json[\"clouds\"][\"all\"]\n",
    "        windspeed=response_json[\"wind\"][\"speed\"]\n",
    "        country=response_json[\"sys\"][\"country\"]\n",
    "        date=response_json[\"dt\"]\n",
    "\n",
    "        cities_weather_list.append({\n",
    "            'City':city, \n",
    "            'Lat': lat,\n",
    "            'Lng': lng,\n",
    "            'Max Temp': maxtemp,\n",
    "            'Humidity': humidity,\n",
    "            'Cloudiness': cloudiness,\n",
    "            'Wind Speed': windspeed,\n",
    "            'Country': country,\n",
    "            'Date': date\n",
    "        })\n",
    "    \n",
    "    except:\n",
    "        print(\"skipping\")\n",
    "        pass"
   ]
  },
  {
   "cell_type": "code",
   "execution_count": 27,
   "metadata": {},
   "outputs": [
    {
     "data": {
      "text/plain": [
       "City          558\n",
       "Lat           558\n",
       "Lng           558\n",
       "Max Temp      558\n",
       "Humidity      558\n",
       "Cloudiness    558\n",
       "Wind Speed    558\n",
       "Country       558\n",
       "Date          558\n",
       "dtype: int64"
      ]
     },
     "execution_count": 27,
     "metadata": {},
     "output_type": "execute_result"
    }
   ],
   "source": [
    "cities_weather_df=pd.DataFrame(cities_weather_list)\n",
    "cities_weather_df.count()"
   ]
  },
  {
   "cell_type": "code",
   "execution_count": 28,
   "metadata": {},
   "outputs": [
    {
     "data": {
      "text/html": [
       "<div>\n",
       "<style scoped>\n",
       "    .dataframe tbody tr th:only-of-type {\n",
       "        vertical-align: middle;\n",
       "    }\n",
       "\n",
       "    .dataframe tbody tr th {\n",
       "        vertical-align: top;\n",
       "    }\n",
       "\n",
       "    .dataframe thead th {\n",
       "        text-align: right;\n",
       "    }\n",
       "</style>\n",
       "<table border=\"1\" class=\"dataframe\">\n",
       "  <thead>\n",
       "    <tr style=\"text-align: right;\">\n",
       "      <th></th>\n",
       "      <th>City</th>\n",
       "      <th>Lat</th>\n",
       "      <th>Lng</th>\n",
       "      <th>Max Temp</th>\n",
       "      <th>Humidity</th>\n",
       "      <th>Cloudiness</th>\n",
       "      <th>Wind Speed</th>\n",
       "      <th>Country</th>\n",
       "      <th>Date</th>\n",
       "    </tr>\n",
       "  </thead>\n",
       "  <tbody>\n",
       "    <tr>\n",
       "      <th>0</th>\n",
       "      <td>mataura</td>\n",
       "      <td>-46.19</td>\n",
       "      <td>168.86</td>\n",
       "      <td>51.03</td>\n",
       "      <td>60</td>\n",
       "      <td>70</td>\n",
       "      <td>7.11</td>\n",
       "      <td>NZ</td>\n",
       "      <td>1597106795</td>\n",
       "    </tr>\n",
       "    <tr>\n",
       "      <th>1</th>\n",
       "      <td>hermanus</td>\n",
       "      <td>-34.42</td>\n",
       "      <td>19.23</td>\n",
       "      <td>44.01</td>\n",
       "      <td>96</td>\n",
       "      <td>0</td>\n",
       "      <td>13.76</td>\n",
       "      <td>ZA</td>\n",
       "      <td>1597106795</td>\n",
       "    </tr>\n",
       "    <tr>\n",
       "      <th>2</th>\n",
       "      <td>busselton</td>\n",
       "      <td>-33.65</td>\n",
       "      <td>115.33</td>\n",
       "      <td>57.00</td>\n",
       "      <td>91</td>\n",
       "      <td>95</td>\n",
       "      <td>16.28</td>\n",
       "      <td>AU</td>\n",
       "      <td>1597106795</td>\n",
       "    </tr>\n",
       "    <tr>\n",
       "      <th>3</th>\n",
       "      <td>cape town</td>\n",
       "      <td>-33.93</td>\n",
       "      <td>18.42</td>\n",
       "      <td>57.99</td>\n",
       "      <td>87</td>\n",
       "      <td>20</td>\n",
       "      <td>11.41</td>\n",
       "      <td>ZA</td>\n",
       "      <td>1597106796</td>\n",
       "    </tr>\n",
       "    <tr>\n",
       "      <th>4</th>\n",
       "      <td>pokhara</td>\n",
       "      <td>28.23</td>\n",
       "      <td>83.98</td>\n",
       "      <td>74.57</td>\n",
       "      <td>75</td>\n",
       "      <td>92</td>\n",
       "      <td>0.47</td>\n",
       "      <td>NP</td>\n",
       "      <td>1597106796</td>\n",
       "    </tr>\n",
       "  </tbody>\n",
       "</table>\n",
       "</div>"
      ],
      "text/plain": [
       "        City    Lat     Lng  Max Temp  Humidity  Cloudiness  Wind Speed  \\\n",
       "0    mataura -46.19  168.86     51.03        60          70        7.11   \n",
       "1   hermanus -34.42   19.23     44.01        96           0       13.76   \n",
       "2  busselton -33.65  115.33     57.00        91          95       16.28   \n",
       "3  cape town -33.93   18.42     57.99        87          20       11.41   \n",
       "4    pokhara  28.23   83.98     74.57        75          92        0.47   \n",
       "\n",
       "  Country        Date  \n",
       "0      NZ  1597106795  \n",
       "1      ZA  1597106795  \n",
       "2      AU  1597106795  \n",
       "3      ZA  1597106796  \n",
       "4      NP  1597106796  "
      ]
     },
     "execution_count": 28,
     "metadata": {},
     "output_type": "execute_result"
    }
   ],
   "source": [
    "cities_weather_df.head()"
   ]
  },
  {
   "cell_type": "markdown",
   "metadata": {},
   "source": [
    "### Convert Raw Data to DataFrame\n",
    "* Export the city data into a .csv.\n",
    "* Display the DataFrame"
   ]
  },
  {
   "cell_type": "code",
   "execution_count": 29,
   "metadata": {},
   "outputs": [],
   "source": [
    "cities_weather_df.to_csv(output_data_file, index_label=\"City_ID\")"
   ]
  },
  {
   "cell_type": "markdown",
   "metadata": {},
   "source": [
    "## Inspect the data and remove the cities where the humidity > 100%.\n",
    "----\n",
    "Skip this step if there are no cities that have humidity > 100%. "
   ]
  },
  {
   "cell_type": "code",
   "execution_count": 30,
   "metadata": {},
   "outputs": [
    {
     "data": {
      "text/html": [
       "<div>\n",
       "<style scoped>\n",
       "    .dataframe tbody tr th:only-of-type {\n",
       "        vertical-align: middle;\n",
       "    }\n",
       "\n",
       "    .dataframe tbody tr th {\n",
       "        vertical-align: top;\n",
       "    }\n",
       "\n",
       "    .dataframe thead th {\n",
       "        text-align: right;\n",
       "    }\n",
       "</style>\n",
       "<table border=\"1\" class=\"dataframe\">\n",
       "  <thead>\n",
       "    <tr style=\"text-align: right;\">\n",
       "      <th></th>\n",
       "      <th>Lat</th>\n",
       "      <th>Lng</th>\n",
       "      <th>Max Temp</th>\n",
       "      <th>Humidity</th>\n",
       "      <th>Cloudiness</th>\n",
       "      <th>Wind Speed</th>\n",
       "      <th>Date</th>\n",
       "    </tr>\n",
       "  </thead>\n",
       "  <tbody>\n",
       "    <tr>\n",
       "      <th>count</th>\n",
       "      <td>558.000000</td>\n",
       "      <td>558.000000</td>\n",
       "      <td>558.000000</td>\n",
       "      <td>558.000000</td>\n",
       "      <td>558.000000</td>\n",
       "      <td>558.000000</td>\n",
       "      <td>5.580000e+02</td>\n",
       "    </tr>\n",
       "    <tr>\n",
       "      <th>mean</th>\n",
       "      <td>20.147563</td>\n",
       "      <td>23.255573</td>\n",
       "      <td>68.595341</td>\n",
       "      <td>72.378136</td>\n",
       "      <td>50.661290</td>\n",
       "      <td>7.953280</td>\n",
       "      <td>1.597107e+09</td>\n",
       "    </tr>\n",
       "    <tr>\n",
       "      <th>std</th>\n",
       "      <td>33.068154</td>\n",
       "      <td>90.521290</td>\n",
       "      <td>13.383092</td>\n",
       "      <td>18.442263</td>\n",
       "      <td>41.709799</td>\n",
       "      <td>5.538165</td>\n",
       "      <td>7.326188e+01</td>\n",
       "    </tr>\n",
       "    <tr>\n",
       "      <th>min</th>\n",
       "      <td>-54.800000</td>\n",
       "      <td>-175.200000</td>\n",
       "      <td>32.000000</td>\n",
       "      <td>3.000000</td>\n",
       "      <td>0.000000</td>\n",
       "      <td>0.470000</td>\n",
       "      <td>1.597107e+09</td>\n",
       "    </tr>\n",
       "    <tr>\n",
       "      <th>25%</th>\n",
       "      <td>-5.502500</td>\n",
       "      <td>-54.875000</td>\n",
       "      <td>58.457500</td>\n",
       "      <td>63.000000</td>\n",
       "      <td>1.000000</td>\n",
       "      <td>3.522500</td>\n",
       "      <td>1.597107e+09</td>\n",
       "    </tr>\n",
       "    <tr>\n",
       "      <th>50%</th>\n",
       "      <td>22.100000</td>\n",
       "      <td>28.055000</td>\n",
       "      <td>71.430000</td>\n",
       "      <td>76.500000</td>\n",
       "      <td>53.500000</td>\n",
       "      <td>6.930000</td>\n",
       "      <td>1.597107e+09</td>\n",
       "    </tr>\n",
       "    <tr>\n",
       "      <th>75%</th>\n",
       "      <td>48.440000</td>\n",
       "      <td>105.060000</td>\n",
       "      <td>78.800000</td>\n",
       "      <td>86.000000</td>\n",
       "      <td>97.000000</td>\n",
       "      <td>10.942500</td>\n",
       "      <td>1.597107e+09</td>\n",
       "    </tr>\n",
       "    <tr>\n",
       "      <th>max</th>\n",
       "      <td>77.480000</td>\n",
       "      <td>179.320000</td>\n",
       "      <td>102.000000</td>\n",
       "      <td>100.000000</td>\n",
       "      <td>100.000000</td>\n",
       "      <td>32.440000</td>\n",
       "      <td>1.597107e+09</td>\n",
       "    </tr>\n",
       "  </tbody>\n",
       "</table>\n",
       "</div>"
      ],
      "text/plain": [
       "              Lat         Lng    Max Temp    Humidity  Cloudiness  Wind Speed  \\\n",
       "count  558.000000  558.000000  558.000000  558.000000  558.000000  558.000000   \n",
       "mean    20.147563   23.255573   68.595341   72.378136   50.661290    7.953280   \n",
       "std     33.068154   90.521290   13.383092   18.442263   41.709799    5.538165   \n",
       "min    -54.800000 -175.200000   32.000000    3.000000    0.000000    0.470000   \n",
       "25%     -5.502500  -54.875000   58.457500   63.000000    1.000000    3.522500   \n",
       "50%     22.100000   28.055000   71.430000   76.500000   53.500000    6.930000   \n",
       "75%     48.440000  105.060000   78.800000   86.000000   97.000000   10.942500   \n",
       "max     77.480000  179.320000  102.000000  100.000000  100.000000   32.440000   \n",
       "\n",
       "               Date  \n",
       "count  5.580000e+02  \n",
       "mean   1.597107e+09  \n",
       "std    7.326188e+01  \n",
       "min    1.597107e+09  \n",
       "25%    1.597107e+09  \n",
       "50%    1.597107e+09  \n",
       "75%    1.597107e+09  \n",
       "max    1.597107e+09  "
      ]
     },
     "execution_count": 30,
     "metadata": {},
     "output_type": "execute_result"
    }
   ],
   "source": [
    "cities_weather_df.describe()"
   ]
  },
  {
   "cell_type": "code",
   "execution_count": 7,
   "metadata": {},
   "outputs": [
    {
     "data": {
      "text/plain": [
       "Int64Index([], dtype='int64')"
      ]
     },
     "execution_count": 7,
     "metadata": {},
     "output_type": "execute_result"
    }
   ],
   "source": [
    "#  Get the indices of cities that have humidity over 100%.\n"
   ]
  },
  {
   "cell_type": "code",
   "execution_count": 8,
   "metadata": {},
   "outputs": [
    {
     "data": {
      "text/html": [
       "<div>\n",
       "<style scoped>\n",
       "    .dataframe tbody tr th:only-of-type {\n",
       "        vertical-align: middle;\n",
       "    }\n",
       "\n",
       "    .dataframe tbody tr th {\n",
       "        vertical-align: top;\n",
       "    }\n",
       "\n",
       "    .dataframe thead th {\n",
       "        text-align: right;\n",
       "    }\n",
       "</style>\n",
       "<table border=\"1\" class=\"dataframe\">\n",
       "  <thead>\n",
       "    <tr style=\"text-align: right;\">\n",
       "      <th></th>\n",
       "      <th>City</th>\n",
       "      <th>Lat</th>\n",
       "      <th>Lng</th>\n",
       "      <th>Max Temp</th>\n",
       "      <th>Humidity</th>\n",
       "      <th>Cloudiness</th>\n",
       "      <th>Wind Speed</th>\n",
       "      <th>Country</th>\n",
       "      <th>Date</th>\n",
       "    </tr>\n",
       "  </thead>\n",
       "  <tbody>\n",
       "    <tr>\n",
       "      <th>0</th>\n",
       "      <td>pimentel</td>\n",
       "      <td>-6.84</td>\n",
       "      <td>-79.93</td>\n",
       "      <td>66.20</td>\n",
       "      <td>29</td>\n",
       "      <td>75</td>\n",
       "      <td>5.82</td>\n",
       "      <td>PE</td>\n",
       "      <td>1585764415</td>\n",
       "    </tr>\n",
       "    <tr>\n",
       "      <th>1</th>\n",
       "      <td>victoria</td>\n",
       "      <td>22.29</td>\n",
       "      <td>114.16</td>\n",
       "      <td>69.01</td>\n",
       "      <td>88</td>\n",
       "      <td>40</td>\n",
       "      <td>18.34</td>\n",
       "      <td>HK</td>\n",
       "      <td>1585764288</td>\n",
       "    </tr>\n",
       "    <tr>\n",
       "      <th>2</th>\n",
       "      <td>padang</td>\n",
       "      <td>-0.95</td>\n",
       "      <td>100.35</td>\n",
       "      <td>79.90</td>\n",
       "      <td>75</td>\n",
       "      <td>99</td>\n",
       "      <td>1.63</td>\n",
       "      <td>ID</td>\n",
       "      <td>1585764115</td>\n",
       "    </tr>\n",
       "    <tr>\n",
       "      <th>3</th>\n",
       "      <td>hasaki</td>\n",
       "      <td>35.73</td>\n",
       "      <td>140.83</td>\n",
       "      <td>55.00</td>\n",
       "      <td>100</td>\n",
       "      <td>75</td>\n",
       "      <td>4.70</td>\n",
       "      <td>JP</td>\n",
       "      <td>1585764415</td>\n",
       "    </tr>\n",
       "    <tr>\n",
       "      <th>4</th>\n",
       "      <td>kahului</td>\n",
       "      <td>20.89</td>\n",
       "      <td>-156.47</td>\n",
       "      <td>70.00</td>\n",
       "      <td>88</td>\n",
       "      <td>1</td>\n",
       "      <td>7.63</td>\n",
       "      <td>US</td>\n",
       "      <td>1585764415</td>\n",
       "    </tr>\n",
       "  </tbody>\n",
       "</table>\n",
       "</div>"
      ],
      "text/plain": [
       "       City    Lat     Lng  Max Temp  Humidity  Cloudiness  Wind Speed  \\\n",
       "0  pimentel  -6.84  -79.93     66.20        29          75        5.82   \n",
       "1  victoria  22.29  114.16     69.01        88          40       18.34   \n",
       "2    padang  -0.95  100.35     79.90        75          99        1.63   \n",
       "3    hasaki  35.73  140.83     55.00       100          75        4.70   \n",
       "4   kahului  20.89 -156.47     70.00        88           1        7.63   \n",
       "\n",
       "  Country        Date  \n",
       "0      PE  1585764415  \n",
       "1      HK  1585764288  \n",
       "2      ID  1585764115  \n",
       "3      JP  1585764415  \n",
       "4      US  1585764415  "
      ]
     },
     "execution_count": 8,
     "metadata": {},
     "output_type": "execute_result"
    }
   ],
   "source": [
    "# Make a new DataFrame equal to the city data to drop all humidity outliers by index.\n",
    "# Passing \"inplace=False\" will make a copy of the city_data DataFrame, which we call \"clean_city_data\".\n"
   ]
  },
  {
   "cell_type": "code",
   "execution_count": 31,
   "metadata": {},
   "outputs": [],
   "source": [
    "# Extract relevant fields from the data frame\n",
    "lat=cities_weather_df[\"Lat\"]\n",
    "maxtemp=cities_weather_df[\"Max Temp\"]\n",
    "humidity=cities_weather_df[\"Humidity\"]\n",
    "cloudiness=cities_weather_df[\"Cloudiness\"]\n",
    "windspeed=cities_weather_df[\"Wind Speed\"]\n",
    "\n",
    "# Export the City_Data into a csv\n"
   ]
  },
  {
   "cell_type": "markdown",
   "metadata": {},
   "source": [
    "## Plotting the Data\n",
    "* Use proper labeling of the plots using plot titles (including date of analysis) and axes labels.\n",
    "* Save the plotted figures as .pngs."
   ]
  },
  {
   "cell_type": "markdown",
   "metadata": {},
   "source": [
    "## Latitude vs. Temperature Plot"
   ]
  },
  {
   "cell_type": "code",
   "execution_count": 32,
   "metadata": {
    "scrolled": true
   },
   "outputs": [
    {
     "data": {
      "image/png": "[encoded data removed]",
      "text/plain": [
       "<Figure size 432x288 with 1 Axes>"
      ]
     },
     "metadata": {
      "needs_background": "light"
     },
     "output_type": "display_data"
    }
   ],
   "source": [
    "plt.scatter(lat,maxtemp)\n",
    "plt.xlabel(\"Latitude\")\n",
    "plt.ylabel(\"Maximum Temperature\")\n",
    "plt.title(\"City Latitude v Max Temp (8/10/20)\")\n",
    "plt.grid(True)\n",
    "plt.savefig(\"output_data/fig1.png\")\n",
    "plt.show()"
   ]
  },
  {
   "cell_type": "markdown",
   "metadata": {},
   "source": [
    "## Latitude vs. Humidity Plot"
   ]
  },
  {
   "cell_type": "code",
   "execution_count": 38,
   "metadata": {},
   "outputs": [
    {
     "data": {
      "image/png": "[encoded data removed]",
      "text/plain": [
       "<Figure size 432x288 with 1 Axes>"
      ]
     },
     "metadata": {
      "needs_background": "light"
     },
     "output_type": "display_data"
    }
   ],
   "source": [
    "plt.scatter(lat,humidity)\n",
    "plt.xlabel(\"Latitude\")\n",
    "plt.ylabel(\"Humidity\")\n",
    "plt.title(\"City Latitude v Humidity (8/10/20)\")\n",
    "plt.grid(True)\n",
    "plt.savefig(\"output_data/fig2.png\")\n",
    "plt.show()"
   ]
  },
  {
   "cell_type": "markdown",
   "metadata": {},
   "source": [
    "## Latitude vs. Cloudiness Plot"
   ]
  },
  {
   "cell_type": "code",
   "execution_count": 39,
   "metadata": {},
   "outputs": [
    {
     "data": {
      "image/png": "[encoded data removed]",
      "text/plain": [
       "<Figure size 432x288 with 1 Axes>"
      ]
     },
     "metadata": {
      "needs_background": "light"
     },
     "output_type": "display_data"
    }
   ],
   "source": [
    "plt.scatter(lat,cloudiness)\n",
    "plt.xlabel(\"Latitude\")\n",
    "plt.ylabel(\"Cloudiness\")\n",
    "plt.title(\"City Latitude v Cloudiness (8/10/20)\")\n",
    "plt.grid(True)\n",
    "plt.savefig(\"output_data/fig3.png\")\n",
    "plt.show()"
   ]
  },
  {
   "cell_type": "markdown",
   "metadata": {},
   "source": [
    "## Latitude vs. Wind Speed Plot"
   ]
  },
  {
   "cell_type": "code",
   "execution_count": 40,
   "metadata": {},
   "outputs": [
    {
     "data": {
      "image/png": "[encoded data removed]",
      "text/plain": [
       "<Figure size 432x288 with 1 Axes>"
      ]
     },
     "metadata": {
      "needs_background": "light"
     },
     "output_type": "display_data"
    }
   ],
   "source": [
    "plt.scatter(lat,windspeed)\n",
    "plt.xlabel(\"Latitude\")\n",
    "plt.ylabel(\"Wind Speed\")\n",
    "plt.title(\"City Latitude v Wind Speed (8/10/20)\")\n",
    "plt.grid(True)\n",
    "plt.savefig(\"output_data/fig4.png\")\n",
    "plt.show()"
   ]
  },
  {
   "cell_type": "markdown",
   "metadata": {},
   "source": [
    "## Linear Regression"
   ]
  },
  {
   "cell_type": "code",
   "execution_count": 14,
   "metadata": {},
   "outputs": [],
   "source": [
    "# OPTIONAL: Create a function to create Linear Regression plots"
   ]
  },
  {
   "cell_type": "code",
   "execution_count": 15,
   "metadata": {},
   "outputs": [],
   "source": [
    "# Create Northern and Southern Hemisphere DataFrames"
   ]
  },
  {
   "cell_type": "markdown",
   "metadata": {},
   "source": [
    "####  Northern Hemisphere - Max Temp vs. Latitude Linear Regression"
   ]
  },
  {
   "cell_type": "code",
   "execution_count": 16,
   "metadata": {},
   "outputs": [
    {
     "name": "stdout",
     "output_type": "stream",
     "text": [
      "The r-squared is: 0.8271188905041935\n"
     ]
    },
    {
     "data": {
      "image/png": "[encoded data removed]",
      "text/plain": [
       "<Figure size 432x288 with 1 Axes>"
      ]
     },
     "metadata": {
      "needs_background": "light"
     },
     "output_type": "display_data"
    }
   ],
   "source": []
  },
  {
   "cell_type": "markdown",
   "metadata": {},
   "source": [
    "####  Southern Hemisphere - Max Temp vs. Latitude Linear Regression"
   ]
  },
  {
   "cell_type": "code",
   "execution_count": 17,
   "metadata": {},
   "outputs": [
    {
     "name": "stdout",
     "output_type": "stream",
     "text": [
      "The r-squared is: 0.39936284758885965\n"
     ]
    },
    {
     "data": {
      "image/png": "[encoded data removed]",
      "text/plain": [
       "<Figure size 432x288 with 1 Axes>"
      ]
     },
     "metadata": {
      "needs_background": "light"
     },
     "output_type": "display_data"
    }
   ],
   "source": []
  },
  {
   "cell_type": "markdown",
   "metadata": {},
   "source": [
    "####  Northern Hemisphere - Humidity (%) vs. Latitude Linear Regression"
   ]
  },
  {
   "cell_type": "code",
   "execution_count": 18,
   "metadata": {},
   "outputs": [
    {
     "name": "stdout",
     "output_type": "stream",
     "text": [
      "The r-squared is: 0.10829462153873139\n"
     ]
    },
    {
     "data": {
      "image/png": "[encoded data removed]",
      "text/plain": [
       "<Figure size 432x288 with 1 Axes>"
      ]
     },
     "metadata": {
      "needs_background": "light"
     },
     "output_type": "display_data"
    }
   ],
   "source": []
  },
  {
   "cell_type": "markdown",
   "metadata": {},
   "source": [
    "####  Southern Hemisphere - Humidity (%) vs. Latitude Linear Regression"
   ]
  },
  {
   "cell_type": "code",
   "execution_count": 19,
   "metadata": {},
   "outputs": [
    {
     "name": "stdout",
     "output_type": "stream",
     "text": [
      "The r-squared is: 0.0008996079328825663\n"
     ]
    },
    {
     "data": {
      "image/png": "[encoded data removed]",
      "text/plain": [
       "<Figure size 432x288 with 1 Axes>"
      ]
     },
     "metadata": {
      "needs_background": "light"
     },
     "output_type": "display_data"
    }
   ],
   "source": []
  },
  {
   "cell_type": "markdown",
   "metadata": {},
   "source": [
    "####  Northern Hemisphere - Cloudiness (%) vs. Latitude Linear Regression"
   ]
  },
  {
   "cell_type": "code",
   "execution_count": 20,
   "metadata": {},
   "outputs": [
    {
     "name": "stdout",
     "output_type": "stream",
     "text": [
      "The r-squared is: 0.05768812657005063\n"
     ]
    },
    {
     "data": {
      "image/png": "[encoded data removed]",
      "text/plain": [
       "<Figure size 432x288 with 1 Axes>"
      ]
     },
     "metadata": {
      "needs_background": "light"
     },
     "output_type": "display_data"
    }
   ],
   "source": []
  },
  {
   "cell_type": "markdown",
   "metadata": {},
   "source": [
    "####  Southern Hemisphere - Cloudiness (%) vs. Latitude Linear Regression"
   ]
  },
  {
   "cell_type": "code",
   "execution_count": 21,
   "metadata": {},
   "outputs": [
    {
     "name": "stdout",
     "output_type": "stream",
     "text": [
      "The r-squared is: 0.0684912094859049\n"
     ]
    },
    {
     "data": {
      "image/png": "[encoded data removed]",
      "text/plain": [
       "<Figure size 432x288 with 1 Axes>"
      ]
     },
     "metadata": {
      "needs_background": "light"
     },
     "output_type": "display_data"
    }
   ],
   "source": []
  },
  {
   "cell_type": "markdown",
   "metadata": {},
   "source": [
    "####  Northern Hemisphere - Wind Speed (mph) vs. Latitude Linear Regression"
   ]
  },
  {
   "cell_type": "code",
   "execution_count": 22,
   "metadata": {},
   "outputs": [
    {
     "name": "stdout",
     "output_type": "stream",
     "text": [
      "The r-squared is: 0.023371104533850804\n"
     ]
    },
    {
     "data": {
      "image/png": "[encoded data removed]",
      "text/plain": [
       "<Figure size 432x288 with 1 Axes>"
      ]
     },
     "metadata": {
      "needs_background": "light"
     },
     "output_type": "display_data"
    }
   ],
   "source": []
  },
  {
   "cell_type": "markdown",
   "metadata": {},
   "source": [
    "####  Southern Hemisphere - Wind Speed (mph) vs. Latitude Linear Regression"
   ]
  },
  {
   "cell_type": "code",
   "execution_count": 23,
   "metadata": {},
   "outputs": [
    {
     "name": "stdout",
     "output_type": "stream",
     "text": [
      "The r-squared is: 0.03381889207758188\n"
     ]
    },
    {
     "data": {
      "image/png": "[encoded data removed]",
      "text/plain": [
       "<Figure size 432x288 with 1 Axes>"
      ]
     },
     "metadata": {
      "needs_background": "light"
     },
     "output_type": "display_data"
    }
   ],
   "source": []
  },
  {
   "cell_type": "code",
   "execution_count": null,
   "metadata": {},
   "outputs": [],
   "source": []
  }
 ],
 "metadata": {
  "anaconda-cloud": {},
  "kernel_info": {
   "name": "python3"
  },
  "kernelspec": {
   "display_name": "Python 3",
   "language": "python",
   "name": "python3"
  },
  "language_info": {
   "codemirror_mode": {
    "name": "ipython",
    "version": 3
   },
   "file_extension": ".py",
   "mimetype": "text/x-python",
   "name": "python",
   "nbconvert_exporter": "python",
   "pygments_lexer": "ipython3",
   "version": "3.7.6"
  },
  "latex_envs": {
   "LaTeX_envs_menu_present": true,
   "autoclose": false,
   "autocomplete": true,
   "bibliofile": "biblio.bib",
   "cite_by": "apalike",
   "current_citInitial": 1,
   "eqLabelWithNumbers": true,
   "eqNumInitial": 1,
   "hotkeys": {
    "equation": "Ctrl-E",
    "itemize": "Ctrl-I"
   },
   "labels_anchors": false,
   "latex_user_defs": false,
   "report_style_numbering": false,
   "user_envs_cfg": false
  },
  "nteract": {
   "version": "0.12.3"
  }
 },
 "nbformat": 4,
 "nbformat_minor": 4
}
